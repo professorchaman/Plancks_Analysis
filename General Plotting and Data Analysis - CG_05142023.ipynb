{
 "cells": [
  {
   "attachments": {},
   "cell_type": "markdown",
   "metadata": {},
   "source": [
    "## Introduction\n",
    "\n",
    "#### Author - Chaman Gupta\n",
    "#### Last Updated - 05/14/2023\n",
    "\n",
    "Install the following libraries by copying each line to your command prompt/terminal:\n",
    "\n",
    "***\n",
    "`pip install traitlets`\n",
    "\n",
    "`pip install peakutils`\n",
    "\n",
    "`pip install ipywidgets`\n",
    "\n",
    "`pip install tkinter`\n",
    "***"
   ]
  },
  {
   "attachments": {},
   "cell_type": "markdown",
   "metadata": {},
   "source": [
    "### Import Libraries"
   ]
  },
  {
   "cell_type": "code",
   "execution_count": 1,
   "metadata": {
    "code_folding": [],
    "init_cell": true
   },
   "outputs": [],
   "source": [
    "\n",
    "# Import libraries\n",
    "import os\n",
    "import traitlets\n",
    "from ipywidgets import *\n",
    "from IPython.display import display, Javascript, clear_output\n",
    "\n",
    "import numpy as np\n",
    "import pandas as pd\n",
    "import matplotlib\n",
    "from matplotlib.animation import FuncAnimation\n",
    "import matplotlib.pyplot as plt\n",
    "from matplotlib.ticker import (MultipleLocator, AutoMinorLocator)\n",
    "\n",
    "from scipy.optimize import curve_fit\n",
    "from scipy.interpolate import CubicSpline                    # Safe smooth interpolation\n",
    "from scipy.signal import find_peaks\n",
    "from scipy.signal import medfilt\n",
    "from scipy import signal\n",
    "from pybaselines import Baseline, utils\n",
    "from scipy.integrate import simpson, trapz\n",
    "\n",
    "from tkinter import Tk, filedialog\n",
    "\n",
    "import peakutils\n",
    "from peakutils.plot import plot as pplot\n",
    "\n",
    "from tqdm import tqdm\n",
    "\n",
    "from helpers import *"
   ]
  },
  {
   "attachments": {},
   "cell_type": "markdown",
   "metadata": {},
   "source": [
    "### Set graphing properties"
   ]
  },
  {
   "cell_type": "code",
   "execution_count": 2,
   "metadata": {},
   "outputs": [],
   "source": [
    "## Set graphing properties\n",
    "\n",
    "matplotlib.rcParams['font.sans-serif'] = ['Arial'] # Helvetica\n",
    "plt.rcParams[\"figure.figsize\"] = (15,7)\n",
    "\n",
    "SMALL_SIZE = 16\n",
    "MEDIUM_SIZE = 18\n",
    "BIGGER_SIZE = 20\n",
    "\n",
    "plt.rcParams['axes.facecolor']='white'\n",
    "plt.rcParams['savefig.facecolor']='white'\n",
    "plt.rc('font', size=SMALL_SIZE)  # controls default text sizes\n",
    "plt.rc('axes', titlesize=SMALL_SIZE)  # fontsize of the axes title\n",
    "plt.rc('axes', labelsize=MEDIUM_SIZE)  # fontsize of the x and y labels\n",
    "plt.rc('xtick', labelsize=SMALL_SIZE)  # fontsize of the tick labels\n",
    "plt.rc('ytick', labelsize=SMALL_SIZE)  # fontsize of the tick labels\n",
    "plt.rc('legend', fontsize=SMALL_SIZE)  # legend fontsize\n",
    "plt.rc('figure', titlesize=BIGGER_SIZE)  # fontsize of the figure title"
   ]
  },
  {
   "attachments": {},
   "cell_type": "markdown",
   "metadata": {},
   "source": [
    "### Clean Intensity Correction files"
   ]
  },
  {
   "cell_type": "code",
   "execution_count": 3,
   "metadata": {},
   "outputs": [],
   "source": [
    "do_lamp_cleaning = 'n' # y or n\n",
    "\n",
    "if do_lamp_cleaning == 'y':\n",
    "    print(\"\\nSelect lamp files for cleaning and analysis \\n(optional; if none is chosen, default intensity correction factor will be used): \")\n",
    "    selectiCorrFiles = SelectFilesButton()\n",
    "    display(selectiCorrFiles)\n",
    "else:\n",
    "    pass\n"
   ]
  },
  {
   "cell_type": "code",
   "execution_count": 4,
   "metadata": {},
   "outputs": [],
   "source": [
    "## Variables\n",
    "do_baseline_subtraction = 'n' # 'y', 'n'\n",
    "do_median_filtering = 'n' # 'y', 'n'\n",
    "do_data_cleaning = 'n' # 'y', 'n'\n",
    "do_savgol_filtering = 'n' # 'y', 'n'\n",
    "do_conversion = 'n' # 'raman', 'energy', 'n'\n",
    "do_normalize = 'n' # 'relative' scale', 'area', 'n'\n",
    "do_peak_finding = 'n' # 'y', 'n'\n",
    "\n",
    "c_vac = 2.99*10**8 # speed of light in vacuum m/sec\n",
    "laser_source = 532 # Excitation source in nm\n",
    "\n",
    "p_order = 5 # Polynomial order for baseline subtraction\n",
    "k_size = 7 # Kernel size for Median Filtering\n",
    "erp = -10\n",
    "k_size_savgol = 11\n",
    "p_order_savgol = 1"
   ]
  },
  {
   "cell_type": "code",
   "execution_count": 5,
   "metadata": {},
   "outputs": [],
   "source": [
    "if do_lamp_cleaning == 'y':\n",
    "    i_corr_cleaning(selectiCorrFiles,do_baseline_subtraction,do_median_filtering,do_data_cleaning,do_savgol_filtering,do_conversion,do_normalize,do_peak_finding,p_order,k_size,erp,k_size_savgol,p_order_savgol)\n",
    "else:\n",
    "    pass"
   ]
  },
  {
   "attachments": {},
   "cell_type": "markdown",
   "metadata": {},
   "source": [
    "## Files for averaging and cosmic ray cleaning"
   ]
  },
  {
   "cell_type": "code",
   "execution_count": 6,
   "metadata": {
    "code_folding": []
   },
   "outputs": [
    {
     "name": "stdout",
     "output_type": "stream",
     "text": [
      "Select data files to remove cosmic rays or average: \n"
     ]
    },
    {
     "data": {
      "application/vnd.jupyter.widget-view+json": {
       "model_id": "cc44fa7c09084cb99d29725fbd475d04",
       "version_major": 2,
       "version_minor": 0
      },
      "text/plain": [
       "SelectFilesButton(description='Select File', icon='square-o', style=ButtonStyle(button_color='orange'))"
      ]
     },
     "metadata": {},
     "output_type": "display_data"
    }
   ],
   "source": [
    "print(\"Select data files to remove cosmic rays or average: \")\n",
    "cleanFiles = SelectFilesButton()\n",
    "display(cleanFiles)"
   ]
  },
  {
   "attachments": {},
   "cell_type": "markdown",
   "metadata": {},
   "source": [
    "### Cosmic Ray Removal and Averaging"
   ]
  },
  {
   "cell_type": "code",
   "execution_count": 7,
   "metadata": {},
   "outputs": [
    {
     "ename": "ValueError",
     "evalue": "all the input array dimensions for the concatenation axis must match exactly, but along dimension 0, the array at index 0 has size 2136 and the array at index 1 has size 29",
     "output_type": "error",
     "traceback": [
      "\u001b[1;31m---------------------------------------------------------------------------\u001b[0m",
      "\u001b[1;31mValueError\u001b[0m                                Traceback (most recent call last)",
      "\u001b[1;32mg:\\Shared drives\\Pauzauskie Team Drive\\Users\\CG\\Scripts\\Data_Analysis\\GIT_Projects\\General Plotting and Data Analysis - CG_05142023.ipynb Cell 13\u001b[0m in \u001b[0;36m<cell line: 10>\u001b[1;34m()\u001b[0m\n\u001b[0;32m      <a href='vscode-notebook-cell:/g%3A/Shared%20drives/Pauzauskie%20Team%20Drive/Users/CG/Scripts/Data_Analysis/GIT_Projects/General%20Plotting%20and%20Data%20Analysis%20-%20CG_05142023.ipynb#X15sZmlsZQ%3D%3D?line=8'>9</a>\u001b[0m do_data_averaging \u001b[39m=\u001b[39m \u001b[39m'\u001b[39m\u001b[39my\u001b[39m\u001b[39m'\u001b[39m\n\u001b[0;32m     <a href='vscode-notebook-cell:/g%3A/Shared%20drives/Pauzauskie%20Team%20Drive/Users/CG/Scripts/Data_Analysis/GIT_Projects/General%20Plotting%20and%20Data%20Analysis%20-%20CG_05142023.ipynb#X15sZmlsZQ%3D%3D?line=9'>10</a>\u001b[0m \u001b[39mif\u001b[39;00m do_data_averaging \u001b[39m==\u001b[39m \u001b[39m'\u001b[39m\u001b[39my\u001b[39m\u001b[39m'\u001b[39m:\n\u001b[1;32m---> <a href='vscode-notebook-cell:/g%3A/Shared%20drives/Pauzauskie%20Team%20Drive/Users/CG/Scripts/Data_Analysis/GIT_Projects/General%20Plotting%20and%20Data%20Analysis%20-%20CG_05142023.ipynb#X15sZmlsZQ%3D%3D?line=10'>11</a>\u001b[0m     x_data, averaged_data \u001b[39m=\u001b[39m data_averaging(cleanFiles,average\u001b[39m=\u001b[39;49m\u001b[39mTrue\u001b[39;49;00m,batching\u001b[39m=\u001b[39;49m\u001b[39mTrue\u001b[39;49;00m,batch_size\u001b[39m=\u001b[39;49m\u001b[39m5\u001b[39;49m)\n\u001b[0;32m     <a href='vscode-notebook-cell:/g%3A/Shared%20drives/Pauzauskie%20Team%20Drive/Users/CG/Scripts/Data_Analysis/GIT_Projects/General%20Plotting%20and%20Data%20Analysis%20-%20CG_05142023.ipynb#X15sZmlsZQ%3D%3D?line=11'>12</a>\u001b[0m     \u001b[39mprint\u001b[39m(\u001b[39m\"\u001b[39m\u001b[39mdata averaged\u001b[39m\u001b[39m\"\u001b[39m)\n\u001b[0;32m     <a href='vscode-notebook-cell:/g%3A/Shared%20drives/Pauzauskie%20Team%20Drive/Users/CG/Scripts/Data_Analysis/GIT_Projects/General%20Plotting%20and%20Data%20Analysis%20-%20CG_05142023.ipynb#X15sZmlsZQ%3D%3D?line=13'>14</a>\u001b[0m     plt\u001b[39m.\u001b[39mplot(x_data,averaged_data)\n",
      "File \u001b[1;32mg:\\Shared drives\\Pauzauskie Team Drive\\Users\\CG\\Scripts\\Data_Analysis\\GIT_Projects\\helpers.py:373\u001b[0m, in \u001b[0;36mdata_averaging\u001b[1;34m(selectFiles, average, batching, batch_size, final_file_name)\u001b[0m\n\u001b[0;32m    369\u001b[0m         np\u001b[39m.\u001b[39msavetxt(os\u001b[39m.\u001b[39mpath\u001b[39m.\u001b[39mjoin(head_i,tail_i[:\u001b[39m-\u001b[39m\u001b[39m13\u001b[39m]\u001b[39m+\u001b[39mbatch_filename), total_median_data, delimiter\u001b[39m=\u001b[39m\u001b[39m'\u001b[39m\u001b[39m,\u001b[39m\u001b[39m'\u001b[39m)\n\u001b[0;32m    372\u001b[0m averaged_data \u001b[39m=\u001b[39m np\u001b[39m.\u001b[39maverage(y_all, axis\u001b[39m=\u001b[39m\u001b[39m1\u001b[39m)\n\u001b[1;32m--> 373\u001b[0m total_average_data \u001b[39m=\u001b[39m np\u001b[39m.\u001b[39;49mcolumn_stack((x_data, averaged_data))\n\u001b[0;32m    374\u001b[0m np\u001b[39m.\u001b[39msavetxt(os\u001b[39m.\u001b[39mpath\u001b[39m.\u001b[39mjoin(head_i,tail_i[:\u001b[39m-\u001b[39m\u001b[39m13\u001b[39m]\u001b[39m+\u001b[39mfinal_file_name), total_average_data, delimiter\u001b[39m=\u001b[39m\u001b[39m'\u001b[39m\u001b[39m,\u001b[39m\u001b[39m'\u001b[39m)\n\u001b[0;32m    376\u001b[0m \u001b[39mreturn\u001b[39;00m x_data, averaged_data\n",
      "File \u001b[1;32m<__array_function__ internals>:180\u001b[0m, in \u001b[0;36mcolumn_stack\u001b[1;34m(*args, **kwargs)\u001b[0m\n",
      "File \u001b[1;32mc:\\Users\\profe\\AppData\\Local\\Programs\\Python\\Python310\\lib\\site-packages\\numpy\\lib\\shape_base.py:656\u001b[0m, in \u001b[0;36mcolumn_stack\u001b[1;34m(tup)\u001b[0m\n\u001b[0;32m    654\u001b[0m         arr \u001b[39m=\u001b[39m array(arr, copy\u001b[39m=\u001b[39m\u001b[39mFalse\u001b[39;00m, subok\u001b[39m=\u001b[39m\u001b[39mTrue\u001b[39;00m, ndmin\u001b[39m=\u001b[39m\u001b[39m2\u001b[39m)\u001b[39m.\u001b[39mT\n\u001b[0;32m    655\u001b[0m     arrays\u001b[39m.\u001b[39mappend(arr)\n\u001b[1;32m--> 656\u001b[0m \u001b[39mreturn\u001b[39;00m _nx\u001b[39m.\u001b[39;49mconcatenate(arrays, \u001b[39m1\u001b[39;49m)\n",
      "File \u001b[1;32m<__array_function__ internals>:180\u001b[0m, in \u001b[0;36mconcatenate\u001b[1;34m(*args, **kwargs)\u001b[0m\n",
      "\u001b[1;31mValueError\u001b[0m: all the input array dimensions for the concatenation axis must match exactly, but along dimension 0, the array at index 0 has size 2136 and the array at index 1 has size 29"
     ]
    }
   ],
   "source": [
    "do_cosmic_rays_removal = 'n'\n",
    "if do_cosmic_rays_removal == 'y':\n",
    "    x_data, cosmic_removed_data = remove_cosmic_rays(cleanFiles,batching=False,batch_size=3,average=False)\n",
    "    print(\"cosmic rays removed\")\n",
    "        \n",
    "    plt.plot(x_data,cosmic_removed_data)\n",
    "    plt.show()\n",
    "\n",
    "do_data_averaging = 'y'\n",
    "if do_data_averaging == 'y':\n",
    "    x_data, averaged_data = data_averaging(cleanFiles,average=True,batching=True,batch_size=5)\n",
    "    print(\"data averaged\")\n",
    "        \n",
    "    plt.plot(x_data,averaged_data)\n",
    "    plt.show()"
   ]
  },
  {
   "attachments": {},
   "cell_type": "markdown",
   "metadata": {},
   "source": [
    "## Manual Intensity Correction"
   ]
  },
  {
   "cell_type": "code",
   "execution_count": 6,
   "metadata": {},
   "outputs": [
    {
     "name": "stdout",
     "output_type": "stream",
     "text": [
      "Select data files you want to analyze: \n"
     ]
    },
    {
     "data": {
      "application/vnd.jupyter.widget-view+json": {
       "model_id": "a7abf9fb81d54389827a78b1e392af76",
       "version_major": 2,
       "version_minor": 0
      },
      "text/plain": [
       "SelectFilesButton(description='Select File', icon='square-o', style=ButtonStyle(button_color='orange'))"
      ]
     },
     "metadata": {},
     "output_type": "display_data"
    }
   ],
   "source": [
    "print(\"Select data files you want to analyze: \")\n",
    "selectFiles = SelectFilesButton()\n",
    "display(selectFiles)\n",
    "\n",
    "do_intensity_correction = 'n'\n",
    "\n",
    "if do_intensity_correction == 'y':\n",
    "    print(\"\\nSelect tungsten halogen (Blue Ocean optics HL2000) lamp spectrum for intensity correction \\n(optional; if none is chosen, default intensity correction factor will be used): \")\n",
    "    selectHalLamp = SelectFilesButton()\n",
    "    display(selectHalLamp)\n",
    "else:\n",
    "    pass"
   ]
  },
  {
   "attachments": {},
   "cell_type": "markdown",
   "metadata": {},
   "source": [
    "## Main Data Processing and Plotting"
   ]
  },
  {
   "cell_type": "code",
   "execution_count": 7,
   "metadata": {
    "code_folding": []
   },
   "outputs": [],
   "source": [
    "## Variables\n",
    "is_fitted_data_file = False # 'y', 'n'\n",
    "do_baseline_subtraction = 'n' # 'y', 'n'\n",
    "do_median_filtering = 'n' # 'y', 'n'\n",
    "do_data_cleaning = 'n' # 'y', 'n'\n",
    "do_savgol_filtering = 'n' # 'y', 'n'\n",
    "do_conversion = 'n' # 'raman', 'energy', 'n'\n",
    "do_normalize = 'n' # 'relative' scale', 'area', 'n'\n",
    "do_peak_finding = 'n' # 'y', 'n'\n",
    "do_slicing = 'n'\n",
    "do_mfv_calc = 'n'\n",
    "do_data_averaging = 'n'\n",
    "\n",
    "meanf_method = 'energy'\n",
    "\n",
    "hf = 20\n",
    "p_order = 5 # Polynomial order for baseline subtraction\n",
    "k_size = 7 # Kernel size for Median Filtering\n",
    "erp = -5\n",
    "k_size_savgol = 3\n",
    "p_order_savgol = 1\n",
    "\n",
    "start_x = 830\n",
    "end_x = 1020\n",
    "\n",
    "base = 0\n",
    "\n",
    "c_vac = 2.99*10**8 # speed of light in vacuum m/sec\n",
    "laser_source = 532.109 # Excitation source in nm "
   ]
  },
  {
   "cell_type": "code",
   "execution_count": 8,
   "metadata": {
    "code_folding": []
   },
   "outputs": [
    {
     "name": "stderr",
     "output_type": "stream",
     "text": [
      "  0%|          | 0/134 [00:00<?, ?it/s]\n"
     ]
    },
    {
     "ename": "KeyError",
     "evalue": "1",
     "output_type": "error",
     "traceback": [
      "\u001b[1;31m---------------------------------------------------------------------------\u001b[0m",
      "\u001b[1;31mKeyError\u001b[0m                                  Traceback (most recent call last)",
      "File \u001b[1;32mc:\\Users\\profe\\AppData\\Local\\Programs\\Python\\Python310\\lib\\site-packages\\pandas\\core\\indexes\\base.py:3621\u001b[0m, in \u001b[0;36mIndex.get_loc\u001b[1;34m(self, key, method, tolerance)\u001b[0m\n\u001b[0;32m   3620\u001b[0m \u001b[39mtry\u001b[39;00m:\n\u001b[1;32m-> 3621\u001b[0m     \u001b[39mreturn\u001b[39;00m \u001b[39mself\u001b[39;49m\u001b[39m.\u001b[39;49m_engine\u001b[39m.\u001b[39;49mget_loc(casted_key)\n\u001b[0;32m   3622\u001b[0m \u001b[39mexcept\u001b[39;00m \u001b[39mKeyError\u001b[39;00m \u001b[39mas\u001b[39;00m err:\n",
      "File \u001b[1;32mc:\\Users\\profe\\AppData\\Local\\Programs\\Python\\Python310\\lib\\site-packages\\pandas\\_libs\\index.pyx:136\u001b[0m, in \u001b[0;36mpandas._libs.index.IndexEngine.get_loc\u001b[1;34m()\u001b[0m\n",
      "File \u001b[1;32mc:\\Users\\profe\\AppData\\Local\\Programs\\Python\\Python310\\lib\\site-packages\\pandas\\_libs\\index.pyx:163\u001b[0m, in \u001b[0;36mpandas._libs.index.IndexEngine.get_loc\u001b[1;34m()\u001b[0m\n",
      "File \u001b[1;32mpandas\\_libs\\hashtable_class_helper.pxi:2131\u001b[0m, in \u001b[0;36mpandas._libs.hashtable.Int64HashTable.get_item\u001b[1;34m()\u001b[0m\n",
      "File \u001b[1;32mpandas\\_libs\\hashtable_class_helper.pxi:2140\u001b[0m, in \u001b[0;36mpandas._libs.hashtable.Int64HashTable.get_item\u001b[1;34m()\u001b[0m\n",
      "\u001b[1;31mKeyError\u001b[0m: 1",
      "\nThe above exception was the direct cause of the following exception:\n",
      "\u001b[1;31mKeyError\u001b[0m                                  Traceback (most recent call last)",
      "\u001b[1;32mg:\\Shared drives\\Pauzauskie Team Drive\\Users\\CG\\Scripts\\Data_Analysis\\GIT_Projects\\General Plotting and Data Analysis - CG_05142023.ipynb Cell 18\u001b[0m in \u001b[0;36m<cell line: 28>\u001b[1;34m()\u001b[0m\n\u001b[0;32m     <a href='vscode-notebook-cell:/g%3A/Shared%20drives/Pauzauskie%20Team%20Drive/Users/CG/Scripts/Data_Analysis/GIT_Projects/General%20Plotting%20and%20Data%20Analysis%20-%20CG_05142023.ipynb#X23sZmlsZQ%3D%3D?line=27'>28</a>\u001b[0m \u001b[39mfor\u001b[39;00m i \u001b[39min\u001b[39;00m tqdm(\u001b[39mrange\u001b[39m(\u001b[39m0\u001b[39m, \u001b[39mlen\u001b[39m(fdata))):\n\u001b[0;32m     <a href='vscode-notebook-cell:/g%3A/Shared%20drives/Pauzauskie%20Team%20Drive/Users/CG/Scripts/Data_Analysis/GIT_Projects/General%20Plotting%20and%20Data%20Analysis%20-%20CG_05142023.ipynb#X23sZmlsZQ%3D%3D?line=28'>29</a>\u001b[0m     \n\u001b[0;32m     <a href='vscode-notebook-cell:/g%3A/Shared%20drives/Pauzauskie%20Team%20Drive/Users/CG/Scripts/Data_Analysis/GIT_Projects/General%20Plotting%20and%20Data%20Analysis%20-%20CG_05142023.ipynb#X23sZmlsZQ%3D%3D?line=29'>30</a>\u001b[0m     \u001b[39m# fig1 = plt.figure()\u001b[39;00m\n\u001b[0;32m     <a href='vscode-notebook-cell:/g%3A/Shared%20drives/Pauzauskie%20Team%20Drive/Users/CG/Scripts/Data_Analysis/GIT_Projects/General%20Plotting%20and%20Data%20Analysis%20-%20CG_05142023.ipynb#X23sZmlsZQ%3D%3D?line=30'>31</a>\u001b[0m     \u001b[39m# ax1 = fig1.add_subplot(121) # Put this outside loop if you want only one plot with all cruves. Keep it inside if you want separate plots\u001b[39;00m\n\u001b[0;32m     <a href='vscode-notebook-cell:/g%3A/Shared%20drives/Pauzauskie%20Team%20Drive/Users/CG/Scripts/Data_Analysis/GIT_Projects/General%20Plotting%20and%20Data%20Analysis%20-%20CG_05142023.ipynb#X23sZmlsZQ%3D%3D?line=32'>33</a>\u001b[0m     head_i, tail_i \u001b[39m=\u001b[39m os\u001b[39m.\u001b[39mpath\u001b[39m.\u001b[39msplit(fdata[i])\n\u001b[1;32m---> <a href='vscode-notebook-cell:/g%3A/Shared%20drives/Pauzauskie%20Team%20Drive/Users/CG/Scripts/Data_Analysis/GIT_Projects/General%20Plotting%20and%20Data%20Analysis%20-%20CG_05142023.ipynb#X23sZmlsZQ%3D%3D?line=34'>35</a>\u001b[0m     x_data, y_data, metadata \u001b[39m=\u001b[39m DataReader(file_name\u001b[39m=\u001b[39;49mfdata[i])\u001b[39m.\u001b[39;49mread_file()\n\u001b[0;32m     <a href='vscode-notebook-cell:/g%3A/Shared%20drives/Pauzauskie%20Team%20Drive/Users/CG/Scripts/Data_Analysis/GIT_Projects/General%20Plotting%20and%20Data%20Analysis%20-%20CG_05142023.ipynb#X23sZmlsZQ%3D%3D?line=35'>36</a>\u001b[0m     \u001b[39m# print(metadata)\u001b[39;00m\n\u001b[0;32m     <a href='vscode-notebook-cell:/g%3A/Shared%20drives/Pauzauskie%20Team%20Drive/Users/CG/Scripts/Data_Analysis/GIT_Projects/General%20Plotting%20and%20Data%20Analysis%20-%20CG_05142023.ipynb#X23sZmlsZQ%3D%3D?line=36'>37</a>\u001b[0m     \u001b[39mif\u001b[39;00m do_intensity_correction \u001b[39m==\u001b[39m \u001b[39m'\u001b[39m\u001b[39my\u001b[39m\u001b[39m'\u001b[39m: x_data, y_data, intens_data \u001b[39m=\u001b[39m i_corr(flamp, fdata, i)\n",
      "File \u001b[1;32mg:\\Shared drives\\Pauzauskie Team Drive\\Users\\CG\\Scripts\\Data_Analysis\\GIT_Projects\\helpers.py:95\u001b[0m, in \u001b[0;36mDataReader.read_file\u001b[1;34m(self)\u001b[0m\n\u001b[0;32m     93\u001b[0m data \u001b[39m=\u001b[39m pd\u001b[39m.\u001b[39mread_csv(\u001b[39mself\u001b[39m\u001b[39m.\u001b[39mfile_name, skiprows\u001b[39m=\u001b[39mext_dict[ext][\u001b[39m1\u001b[39m], sep\u001b[39m=\u001b[39mext_dict[ext][\u001b[39m0\u001b[39m],engine\u001b[39m=\u001b[39m\u001b[39m'\u001b[39m\u001b[39mpython\u001b[39m\u001b[39m'\u001b[39m,header\u001b[39m=\u001b[39m\u001b[39mNone\u001b[39;00m)\n\u001b[0;32m     94\u001b[0m x \u001b[39m=\u001b[39m data[\u001b[39m0\u001b[39m]\u001b[39m.\u001b[39mto_numpy()\n\u001b[1;32m---> 95\u001b[0m y \u001b[39m=\u001b[39m data[\u001b[39m1\u001b[39;49m]\u001b[39m.\u001b[39mto_numpy()\n\u001b[0;32m     97\u001b[0m \u001b[39mif\u001b[39;00m ext \u001b[39m==\u001b[39m \u001b[39m\"\u001b[39m\u001b[39m.dat\u001b[39m\u001b[39m\"\u001b[39m:\n\u001b[0;32m     98\u001b[0m     col_len \u001b[39m=\u001b[39m \u001b[39mlen\u001b[39m(data\u001b[39m.\u001b[39mcolumns)\n",
      "File \u001b[1;32mc:\\Users\\profe\\AppData\\Local\\Programs\\Python\\Python310\\lib\\site-packages\\pandas\\core\\frame.py:3505\u001b[0m, in \u001b[0;36mDataFrame.__getitem__\u001b[1;34m(self, key)\u001b[0m\n\u001b[0;32m   3503\u001b[0m \u001b[39mif\u001b[39;00m \u001b[39mself\u001b[39m\u001b[39m.\u001b[39mcolumns\u001b[39m.\u001b[39mnlevels \u001b[39m>\u001b[39m \u001b[39m1\u001b[39m:\n\u001b[0;32m   3504\u001b[0m     \u001b[39mreturn\u001b[39;00m \u001b[39mself\u001b[39m\u001b[39m.\u001b[39m_getitem_multilevel(key)\n\u001b[1;32m-> 3505\u001b[0m indexer \u001b[39m=\u001b[39m \u001b[39mself\u001b[39;49m\u001b[39m.\u001b[39;49mcolumns\u001b[39m.\u001b[39;49mget_loc(key)\n\u001b[0;32m   3506\u001b[0m \u001b[39mif\u001b[39;00m is_integer(indexer):\n\u001b[0;32m   3507\u001b[0m     indexer \u001b[39m=\u001b[39m [indexer]\n",
      "File \u001b[1;32mc:\\Users\\profe\\AppData\\Local\\Programs\\Python\\Python310\\lib\\site-packages\\pandas\\core\\indexes\\base.py:3623\u001b[0m, in \u001b[0;36mIndex.get_loc\u001b[1;34m(self, key, method, tolerance)\u001b[0m\n\u001b[0;32m   3621\u001b[0m     \u001b[39mreturn\u001b[39;00m \u001b[39mself\u001b[39m\u001b[39m.\u001b[39m_engine\u001b[39m.\u001b[39mget_loc(casted_key)\n\u001b[0;32m   3622\u001b[0m \u001b[39mexcept\u001b[39;00m \u001b[39mKeyError\u001b[39;00m \u001b[39mas\u001b[39;00m err:\n\u001b[1;32m-> 3623\u001b[0m     \u001b[39mraise\u001b[39;00m \u001b[39mKeyError\u001b[39;00m(key) \u001b[39mfrom\u001b[39;00m \u001b[39merr\u001b[39;00m\n\u001b[0;32m   3624\u001b[0m \u001b[39mexcept\u001b[39;00m \u001b[39mTypeError\u001b[39;00m:\n\u001b[0;32m   3625\u001b[0m     \u001b[39m# If we have a listlike key, _check_indexing_error will raise\u001b[39;00m\n\u001b[0;32m   3626\u001b[0m     \u001b[39m#  InvalidIndexError. Otherwise we fall through and re-raise\u001b[39;00m\n\u001b[0;32m   3627\u001b[0m     \u001b[39m#  the TypeError.\u001b[39;00m\n\u001b[0;32m   3628\u001b[0m     \u001b[39mself\u001b[39m\u001b[39m.\u001b[39m_check_indexing_error(key)\n",
      "\u001b[1;31mKeyError\u001b[0m: 1"
     ]
    },
    {
     "data": {
      "image/png": "[encoded data removed]",
      "text/plain": [
       "<Figure size 1080x504 with 1 Axes>"
      ]
     },
     "metadata": {
      "needs_background": "light"
     },
     "output_type": "display_data"
    }
   ],
   "source": [
    "fdata = selectFiles.files\n",
    "\n",
    "if do_intensity_correction == 'y':\n",
    "    flamp = selectHalLamp.files\n",
    "else:\n",
    "    pass\n",
    "\n",
    "x_label = 'Wavelength (nm)' # Set a default label for x-axis to Wavelength.\n",
    "\n",
    "laser_Pow = []\n",
    "\n",
    "meanf_df = pd.DataFrame(columns=('File Name','Power', 'Mean Wvl'))\n",
    "\n",
    "lab = ['on-sample', 'off-sample']\n",
    "color_lab = ['k','b']\n",
    "power_lab = []\n",
    "\n",
    "# Put this outside loop if you want only one plot with all cruves. Keep it inside if you want separate plots\n",
    "\n",
    "fig1 = plt.figure()\n",
    "\n",
    "if do_mfv_calc == 'y':\n",
    "    ax1 = fig1.add_subplot(121)\n",
    "    ax2 = fig1.add_subplot(122)\n",
    "else:\n",
    "    ax1 = fig1.add_subplot(111)\n",
    "\n",
    "for i in tqdm(range(0, len(fdata))):\n",
    "    \n",
    "    # fig1 = plt.figure()\n",
    "    # ax1 = fig1.add_subplot(121) # Put this outside loop if you want only one plot with all cruves. Keep it inside if you want separate plots\n",
    "\n",
    "    head_i, tail_i = os.path.split(fdata[i])\n",
    "    \n",
    "    x_data, y_data, metadata = DataReader(file_name=fdata[i]).read_file()\n",
    "    # print(metadata)\n",
    "    if do_intensity_correction == 'y': x_data, y_data, intens_data = i_corr(flamp, fdata, i)\n",
    "    else: intens_data = y_data\n",
    "\n",
    "    if do_slicing == 'y': x_data, y_data, intens_data, start, end = slicing_func(x_data,y_data,intens_data,start_x,end_x)\n",
    "\n",
    "    norm_intens_data = norm_func(x_data,y_data,do_normalize)\n",
    "    \n",
    "    \n",
    "    if do_median_filtering == 'y': filt_data = filter_median(norm_intens_data, k_size)\n",
    "    else: filt_data = norm_intens_data\n",
    "\n",
    "    if do_baseline_subtraction == 'y':\n",
    "        base = subtract_bsl(x_data,filt_data,hf)\n",
    "        bsl_subt_data = filt_data - base\n",
    "    else : bsl_subt_data = filt_data\n",
    "\n",
    "    if do_data_cleaning == 'y': cleaned_data = data_cleaning(bsl_subt_data, erp)\n",
    "    else: cleaned_data = bsl_subt_data\n",
    "\n",
    "    if do_savgol_filtering == 'y': savgol_filt_data = filter_savgol(cleaned_data, k_size_savgol,p_order_savgol)\n",
    "    else: savgol_filt_data = cleaned_data\n",
    "\n",
    "    if do_conversion == 'raman':\n",
    "        x_val = nm2ram(x_data,laser_source)\n",
    "        x_label = 'Raman shift(cm$^{-1}$)'\n",
    "        y_val = savgol_filt_data*x_data/10**7\n",
    "    elif do_conversion == 'energy':\n",
    "        x_val = 1240 / x_data\n",
    "        x_label = 'Energy(eV)'\n",
    "        y_val = (1240/(x_val**2))*savgol_filt_data\n",
    "    else:\n",
    "        x_val = x_data\n",
    "        y_val = savgol_filt_data\n",
    "    \n",
    "    if do_mfv_calc == 'y':\n",
    "        mean_f = mean_f_wvl(x_val,y_val,meanf_method)\n",
    "        \n",
    "        string_start = '1020'\n",
    "        string_end = 'et'\n",
    "        string_to_search = 'Pow_'\n",
    "        string_to_end = 'mW'\n",
    "        \n",
    "        power_start = tail_i.find(string_to_search,tail_i.find(string_start),tail_i.find(string_end)) + 4\n",
    "        power_end = tail_i.find(string_to_end,tail_i.find(string_start),tail_i.find(string_end))\n",
    "        power_val = tail_i[power_start:power_end]\n",
    "        if float(power_val) not in laser_Pow:\n",
    "            laser_Pow.append(float(power_val))\n",
    "        \n",
    "        meanf_df.loc[i] =  [tail_i,float(power_val),float(mean_f)]\n",
    "        #ax2.scatter(power_val,mean_f,color='k')\n",
    "    \n",
    "    ### Peak Finding\n",
    "    \n",
    "    # Plotting starts below. Change the code if you want to change how the plotting happens.\n",
    "    \n",
    "    if do_peak_finding == 'y':\n",
    "        w_size = 10\n",
    "        p_prom = 2\n",
    "        thresh = 2\n",
    "\n",
    "        # mp = np.append(mp,press_find(thresh,x_val,y_val,w_size,p_prom))\n",
    "\n",
    "        peak_x = x_val[find_peaks(y_val,width=w_size,prominence=p_prom)[0]]\n",
    "        peak_y = savgol_filt_data[find_peaks(y_val,width=w_size,prominence=p_prom)[0]]\n",
    "\n",
    "        if all(peak_y>thresh)==True:\n",
    "            #print(tail_i)\n",
    "            #print(peak_x, peak_y)\n",
    "            ax1.scatter(peak_x, peak_y,marker='D',color='k')\n",
    "        #file_data_df_i = pd.DataFrame([[tail_i, np.min(x_val),np.max(x_val)]])\n",
    "        #file_data_df = file_data_df.append(file_data_df_i,ignore_index=True)\n",
    "    else:\n",
    "        pass\n",
    "\n",
    "    if is_fitted_data_file == 'y':\n",
    "        \n",
    "        #The 'lab' is a list to store the labels for locations of peaks. Add or remove based on how many peaks you have in your fitted data file from Fityk.\n",
    "        \n",
    "        color_lab = []\n",
    "        power_lab = []\n",
    "        lab = []\n",
    "        \n",
    "        ax1.scatter(x_data, y_data[:,0]/np.max(y_data[:,0]), marker='o', s=4,alpha=0.8,color='r')\n",
    "        \n",
    "        for j in range(1,col_len-2):\n",
    "            \n",
    "            #Plot wihtout lables\n",
    "            ax1.plot(x_data, y_data[:,j]/np.max(y_data[:,0]), lw=0.8,color='k')\n",
    "            \n",
    "            #Plot with labels\n",
    "            # ax1.plot(x_data, y_data[:,j]/np.max(y_data[:,0]), lw=0.8,color='k', label=str(lab[j-1]) + \" nm -- \" + str.format('{0:.1f}',nm2ram(lab[j-1])) + \" cm$^{-1}$\")\n",
    "            \n",
    "            #Add vertical lines\n",
    "            #ax1.vlines(lab[j-1], ymin=0, ymax = 1.04, linestyles='dashed', color='k', alpha=0.6)\n",
    "            #max_y_ht = np.max(y_data) + 100\n",
    "            \n",
    "            #Add text annotation\n",
    "            #ax1.annotate(str(lab[i-2]), (lab[i-2], 250), color='k', rotation=90, size)\n",
    "            #ax1.text(lab[j]+.8, 1.1, str(lab[j]), rotation=90, fontsize = 13)\n",
    "            \n",
    "        ax1.plot(x_data, y_data[:,-1]/np.max(y_data[:,0]), lw=3,color='b')\n",
    "    else:\n",
    "        \n",
    "        y_per = y_val\n",
    "                \n",
    "        ax1.plot(x_val, y_per,lw=2, ls='-',label=f\"Turn-{i+1}\") # Code line to plot the curves\n",
    "        \n",
    "    # General plot properties are set below\n",
    "        \n",
    "    ax1.set_title('P = 20 GPa\\nSiV$^{-}$ PL from sample')\n",
    "    ax1.set_xlabel(x_label)\n",
    "    ax1.set_ylabel('Intensity (counts)')\n",
    "    # ax1.set_xlim(1100,1600)\n",
    "    # ax1.set_ylim(0,0.025)\n",
    "    ax1.grid(True)\n",
    "    \n",
    "    ax1.set_yticks([])\n",
    "    \n",
    "    #ax1.tick_params(axis='y',which='both',left='off',labelleft='off')\n",
    "\n",
    "    # ax1.xaxis.set_major_locator(MultipleLocator(5))\n",
    "    # ax1.xaxis.set_major_formatter('{x:.0f}')\n",
    "\n",
    "    # # For the minor ticks, use no labels; default NullFormatter.\n",
    "    # ax1.xaxis.set_minor_locator(MultipleLocator(1))\n",
    "    # ax1.legend(bbox_to_anchor=(1, 1),title='High Pressure',loc='upper right')\n",
    "    \n",
    "\n",
    "    # Add a secondary x-axis\n",
    "    # secax = ax1.secondary_xaxis('top', functions=(nm2eV, eV2nm))\n",
    "    # secax.set_xlabel('Energy (eV)')\n",
    "    # secax.xaxis.set_major_locator(MultipleLocator(0.01))\n",
    "    # secax.xaxis.set_major_formatter('{x:.2f}')\n",
    "    # secax.xaxis.set_minor_locator(MultipleLocator(0.002))\n",
    "    \n",
    "fig1.tight_layout()\n",
    "plt.ion()\n",
    "plt.show()\n",
    "    \n",
    "    \n",
    "if do_mfv_calc == 'y': plot_meanf_data(laser_Pow, meanf_df, ax2, plot_title='Put your title here')\n",
    "\n",
    "\n",
    "# plt.savefig(os.path.join(head_i,\"../Processed_data\",\"20GPa-SiV_PL-d1.png\"),dpi=300,bbox_inches='tight')"
   ]
  },
  {
   "cell_type": "code",
   "execution_count": null,
   "metadata": {},
   "outputs": [],
   "source": []
  },
  {
   "cell_type": "code",
   "execution_count": null,
   "metadata": {},
   "outputs": [],
   "source": []
  },
  {
   "cell_type": "code",
   "execution_count": null,
   "metadata": {},
   "outputs": [],
   "source": []
  }
 ],
 "metadata": {
  "celltoolbar": "Initialization Cell",
  "interpreter": {
   "hash": "bdbce315960c3776fe868f285029d7a59084f2e8882315e6dd1aa58e67f790cf"
  },
  "kernelspec": {
   "display_name": "Python 3.10.4 64-bit",
   "language": "python",
   "name": "python3"
  },
  "language_info": {
   "codemirror_mode": {
    "name": "ipython",
    "version": 3
   },
   "file_extension": ".py",
   "mimetype": "text/x-python",
   "name": "python",
   "nbconvert_exporter": "python",
   "pygments_lexer": "ipython3",
   "version": "3.10.4"
  },
  "latex_envs": {
   "LaTeX_envs_menu_present": true,
   "autoclose": false,
   "autocomplete": true,
   "bibliofile": "biblio.bib",
   "cite_by": "apalike",
   "current_citInitial": 1,
   "eqLabelWithNumbers": true,
   "eqNumInitial": 1,
   "hotkeys": {
    "equation": "Ctrl-E",
    "itemize": "Ctrl-I"
   },
   "labels_anchors": false,
   "latex_user_defs": false,
   "report_style_numbering": false,
   "user_envs_cfg": false
  },
  "varInspector": {
   "cols": {
    "lenName": 16,
    "lenType": 16,
    "lenVar": 40
   },
   "kernels_config": {
    "python": {
     "delete_cmd_postfix": "",
     "delete_cmd_prefix": "del ",
     "library": "var_list.py",
     "varRefreshCmd": "print(var_dic_list())"
    },
    "r": {
     "delete_cmd_postfix": ") ",
     "delete_cmd_prefix": "rm(",
     "library": "var_list.r",
     "varRefreshCmd": "cat(var_dic_list()) "
    }
   },
   "position": {
    "height": "554px",
    "left": "1550px",
    "right": "20px",
    "top": "120px",
    "width": "350px"
   },
   "types_to_exclude": [
    "module",
    "function",
    "builtin_function_or_method",
    "instance",
    "_Feature"
   ],
   "window_display": false
  }
 },
 "nbformat": 4,
 "nbformat_minor": 4
}
