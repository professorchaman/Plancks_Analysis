{
 "cells": [
  {
   "cell_type": "code",
   "execution_count": 1,
   "metadata": {},
   "outputs": [
    {
     "data": {
      "text/html": [
       "<style>\n",
       ".output_wrapper, .output {\n",
       "    height:auto !important;\n",
       "    max-height:1000000px;  /* your desired max-height here */\n",
       "}\n",
       ".output_scroll {\n",
       "    box-shadow:none !important;\n",
       "    webkit-box-shadow:none !important;\n",
       "}\n",
       "</style>\n",
       "\n",
       "# This cell allows for all the output to be displayed without scrolling (up to the max-height var in pixels)\n"
      ],
      "text/plain": [
       "<IPython.core.display.HTML object>"
      ]
     },
     "metadata": {},
     "output_type": "display_data"
    }
   ],
   "source": [
    "%%html\n",
    "<style>\n",
    ".output_wrapper, .output {\n",
    "    height:auto !important;\n",
    "    max-height:1000000px;  /* your desired max-height here */\n",
    "}\n",
    ".output_scroll {\n",
    "    box-shadow:none !important;\n",
    "    webkit-box-shadow:none !important;\n",
    "}\n",
    "</style>\n",
    "\n",
    "# This cell allows for all the output to be displayed without scrolling (up to the max-height var in pixels)"
   ]
  },
  {
   "cell_type": "code",
   "execution_count": 2,
   "metadata": {},
   "outputs": [
    {
     "name": "stdout",
     "output_type": "stream",
     "text": [
      "ipywidgets is already installed\n",
      "IPython is already installed\n",
      "scipy is already installed\n",
      "numpy is already installed\n",
      "matplotlib is already installed\n",
      "tqdm is already installed\n",
      "pandas is already installed\n",
      "pybaselines is already installed\n",
      "spe2py is already installed\n"
     ]
    }
   ],
   "source": [
    "import importlib\n",
    "\n",
    "# List of required libraries\n",
    "libraries = [\n",
    "    'ipywidgets',\n",
    "    'IPython',\n",
    "    'scipy',\n",
    "    'numpy',\n",
    "    'matplotlib',\n",
    "    'tqdm',\n",
    "    'pandas',\n",
    "    'pybaselines',\n",
    "    'spe2py'\n",
    "]\n",
    "\n",
    "\n",
    "# Check if each library is installed, and install if necessary\n",
    "for library in libraries:\n",
    "    try:\n",
    "        importlib.import_module(library)\n",
    "        print(f\"{library} is already installed\")\n",
    "    except ImportError:\n",
    "        print(f\"{library} is not installed. Installing...\")\n",
    "        !pip install {library}\n",
    "        print(f\"{library} installed successfully\")\n",
    "\n",
    "# Import the required packages\n",
    "from helpers import *\n",
    "from ipywidgets import *\n",
    "from IPython.display import display, Javascript\n",
    "from scipy.optimize import curve_fit\n",
    "import numpy as np\n",
    "import matplotlib.pyplot as plt\n",
    "from scipy.interpolate import CubicSpline\n",
    "from scipy.signal import find_peaks\n",
    "from scipy.signal import medfilt\n",
    "from scipy import signal\n",
    "import peakutils\n",
    "from peakutils.plot import plot as pplot\n",
    "from matplotlib.animation import FuncAnimation\n",
    "from scipy import stats\n",
    "from numpy.fft import fft, fftfreq, ifft\n",
    "import glob\n",
    "from tqdm import tqdm\n",
    "import pandas as pd\n",
    "import oceanopticsdatareader as oodr\n",
    "import dataprocessing as dp\n",
    "from system_response import SystemResponse\n"
   ]
  },
  {
   "cell_type": "code",
   "execution_count": 3,
   "metadata": {},
   "outputs": [],
   "source": [
    "## Scientific Constants\n",
    "\n",
    "h = 6.626e-34 #Planck's constant in Js\n",
    "heV = 4.136e-15 #Planck's constant in eVs\n",
    "c = 2.9979e8 #Speed of light in m/s\n",
    "kb = 1.381e-23 #Boltzmann constant in J/K\n",
    "kbeV = 8.617e-5 #Boltzmann constant in eV/K\n",
    "scale = 2e-9\n",
    "#pixelArea = (20e-6)*(20e-6)*100; # LN Spectrometer Area of 100, 20um x 20um pixels per wavelength\n",
    "pixelArea = (14e-6)*(200e-6); # Ocean Optics UV Vis 14um x 200um per wavelength\n",
    "# acquisitionTime = 0.5; # Acquisition time is seconds"
   ]
  },
  {
   "cell_type": "code",
   "execution_count": 4,
   "metadata": {},
   "outputs": [],
   "source": [
    "do_intensity_corr_data_cleaning = 'n'\n",
    "\n",
    "if do_intensity_corr_data_cleaning == 'y':\n",
    "    \n",
    "    do_median_filtering = 'n'\n",
    "    do_data_cleaning = 'n'\n",
    "    erp = 10 \n",
    "    k_size = 3\n",
    "    \n",
    "    print(\"\\nSelect tungsten halogen (Blue Ocean optics HL2000) lamp spectrum for intensity correction \\n(optional; if none is chosen, default intensity correction factor will be used): \")\n",
    "    selectHalLamp_1 = SelectFilesButton()\n",
    "    display(selectHalLamp_1)\n",
    "else:\n",
    "    pass"
   ]
  },
  {
   "cell_type": "code",
   "execution_count": 5,
   "metadata": {},
   "outputs": [],
   "source": [
    "# Create an instance of the DataProcessing class\n",
    "data_processor = oodr.OceanOpticsDataReader()\n",
    "\n",
    "# Define your processing options\n",
    "do_median_filtering = 'n'\n",
    "do_savgol_filtering = 'n'\n",
    "do_data_cleaning = 'n'\n",
    "erp = 10\n",
    "k_size = 3\n",
    "k_size_savgol = 51\n",
    "p_order_savgol = 1\n",
    "\n",
    "if do_intensity_corr_data_cleaning == 'y':\n",
    "\n",
    "    flamp_1 = selectHalLamp_1.files\n",
    "\n",
    "    for i in tqdm(range(len(flamp_1))):\n",
    "\n",
    "        head, tail = os.path.split(flamp_1[i])\n",
    "\n",
    "        x_data, y_data = data_processor.get_multiple_ocean_optics_data(flamp_1, i)\n",
    "\n",
    "        if do_savgol_filtering == 'y':\n",
    "            savgol_filt_data = data_processor.filter_savgol(y_data, k_size_savgol, p_order_savgol)\n",
    "        else:\n",
    "            savgol_filt_data = y_data\n",
    "\n",
    "        if do_median_filtering == 'y':\n",
    "            filt_data = data_processor.filter_median(savgol_filt_data, k_size)\n",
    "        else:\n",
    "            filt_data = savgol_filt_data\n",
    "\n",
    "        if do_data_cleaning == 'y':\n",
    "            cleaned_data = data_processor.data_cleaning(filt_data, erp)\n",
    "        else:\n",
    "            cleaned_data = filt_data\n",
    "\n",
    "        max_val_intensity = 3000  # Set the value of intensity that an intensity correction file should have to get considered\n",
    "\n",
    "        if np.max(cleaned_data) > max_val_intensity:\n",
    "            # print(flamp_1[i])\n",
    "\n",
    "            datamatrix = np.column_stack((x_data, cleaned_data))  # Compiles corrected data into a new matrix\n",
    "            savename = flamp_1[i][:-4] + \"_cleaned.txt\"  # Create filename for new data\n",
    "            # np.savetxt(savename, datamatrix)  # Save new data\n",
    "\n",
    "    # plt.plot(x_data, y_data, label='Intensity Correction Lamp Data')\n",
    "    # plt.plot(x_data, cleaned_data, label='Cleaned Data')\n",
    "    # plt.plot(x_data,filt_data)\n",
    "    # plt.plot(x_data,savgol_filt_data)\n",
    "\n",
    "    plt.xlabel('Wavelength (nm)')\n",
    "    plt.ylabel('Intensity (a.u.)')\n",
    "    # plt.ylim(0,1000)\n",
    "    plt.legend()\n",
    "    # plt.ylim(100,250)\n",
    "    plt.title(tail)\n",
    "    plt.show()\n",
    "else:\n",
    "    pass"
   ]
  },
  {
   "cell_type": "code",
   "execution_count": 6,
   "metadata": {},
   "outputs": [
    {
     "name": "stdout",
     "output_type": "stream",
     "text": [
      "Select data files:\n"
     ]
    },
    {
     "data": {
      "application/vnd.jupyter.widget-view+json": {
       "model_id": "1b021d0e6bb541799c7197804b1df70e",
       "version_major": 2,
       "version_minor": 0
      },
      "text/plain": [
       "SelectFilesButton(description='Select File', icon='square-o', style=ButtonStyle(button_color='orange'))"
      ]
     },
     "metadata": {},
     "output_type": "display_data"
    },
    {
     "name": "stdout",
     "output_type": "stream",
     "text": [
      "Select data dark BKG: (Optional, don't use if background already subtracted)\n"
     ]
    },
    {
     "data": {
      "application/vnd.jupyter.widget-view+json": {
       "model_id": "7d3ad992ecd140bcbda598826a6d2999",
       "version_major": 2,
       "version_minor": 0
      },
      "text/plain": [
       "SelectFilesButton(description='Select File', icon='square-o', style=ButtonStyle(button_color='orange'))"
      ]
     },
     "metadata": {},
     "output_type": "display_data"
    },
    {
     "name": "stdout",
     "output_type": "stream",
     "text": [
      "________________________________________________________________________________________________________\n",
      "\n",
      "Select tungsten halogen (Blue Ocean optics HL2000) lamp spectrum for intensity correction \n",
      "(optional; if none is chosen, default intensity correction factor will be used): \n"
     ]
    },
    {
     "data": {
      "application/vnd.jupyter.widget-view+json": {
       "model_id": "aeb79498cad04f5abe93a6c279aef850",
       "version_major": 2,
       "version_minor": 0
      },
      "text/plain": [
       "SelectFilesButton(description='Select File', icon='square-o', style=ButtonStyle(button_color='orange'))"
      ]
     },
     "metadata": {},
     "output_type": "display_data"
    },
    {
     "name": "stdout",
     "output_type": "stream",
     "text": [
      "\n",
      "Select baseline spectrum for tungsten lamp measurement: (Optional, don't use if background already subtracted)\n"
     ]
    },
    {
     "data": {
      "application/vnd.jupyter.widget-view+json": {
       "model_id": "bd5dad5ede474d559a00e02a6fcc014b",
       "version_major": 2,
       "version_minor": 0
      },
      "text/plain": [
       "SelectFilesButton(description='Select File', icon='square-o', style=ButtonStyle(button_color='orange'))"
      ]
     },
     "metadata": {},
     "output_type": "display_data"
    },
    {
     "name": "stdout",
     "output_type": "stream",
     "text": [
      "________________________________________________________________________________________________________\n"
     ]
    }
   ],
   "source": [
    "print(\"Select data files:\")\n",
    "selectFiles = SelectFilesButton()\n",
    "display(selectFiles)\n",
    "\n",
    "do_intensity_correction = 'y'\n",
    "\n",
    "if do_intensity_correction == 'y':\n",
    "    print(\"Select data dark BKG: (Optional, don't use if background already subtracted)\")\n",
    "    selectDark = SelectFilesButton()\n",
    "    display(selectDark)\n",
    "    print(\"________________________________________________________________________________________________________\")\n",
    "\n",
    "    print(\"\\nSelect tungsten halogen (Blue Ocean optics HL2000) lamp spectrum for intensity correction \\n(optional; if none is chosen, default intensity correction factor will be used): \")\n",
    "    selectHalLamp = SelectFilesButton()\n",
    "    display(selectHalLamp)\n",
    "\n",
    "    print(\"\\nSelect baseline spectrum for tungsten lamp measurement: (Optional, don't use if background already subtracted)\")\n",
    "    selectBaseline = SelectFilesButton()\n",
    "    display(selectBaseline)\n",
    "    print(\"________________________________________________________________________________________________________\")\n",
    "\n",
    "else:\n",
    "    pass"
   ]
  },
  {
   "cell_type": "code",
   "execution_count": 7,
   "metadata": {},
   "outputs": [],
   "source": [
    "## Variables for Planck's fitting\n",
    "\n",
    "acquisitionTime = 0.0007 # 500ms acquistion time\n",
    "#T0 = 1000 # Initial temperature guess in degrees K\n",
    "\n",
    "do_system_correction = 'y'\n",
    "do_intensity_correction = 'n'\n",
    "do_baseline_subtraction = 'n'\n",
    "do_median_filtering = 'n'\n",
    "do_data_cleaning = 'n'\n",
    "do_planck_fit = 'n' # Do Planck's fit\n",
    "p_order = 5 # Polynomial order for baseline subtraction\n",
    "k_size = 3 # Kernel size for Median Filtering\n",
    "erp = -11\n",
    "\n",
    "wvl_start = 400 # Wavelength start range to fit in nm\n",
    "wvl_end = 580 # Wavelength end range to fit in nm\n",
    "T0 = 400 # Initial temperature guess in degrees K\n",
    "scale_factor = 1e-6 # Scale factor for fitting"
   ]
  },
  {
   "cell_type": "code",
   "execution_count": 8,
   "metadata": {},
   "outputs": [
    {
     "name": "stderr",
     "output_type": "stream",
     "text": [
      "  0%|          | 0/1 [00:00<?, ?it/s]"
     ]
    },
    {
     "data": {
      "image/png": "[encoded data removed]",
      "text/plain": [
       "<Figure size 432x288 with 1 Axes>"
      ]
     },
     "metadata": {
      "needs_background": "light"
     },
     "output_type": "display_data"
    },
    {
     "name": "stderr",
     "output_type": "stream",
     "text": [
      "100%|██████████| 1/1 [00:00<00:00,  3.40it/s]"
     ]
    },
    {
     "name": "stdout",
     "output_type": "stream",
     "text": [
      "Empty DataFrame\n",
      "Columns: [file_name, Temperature(K)]\n",
      "Index: []\n"
     ]
    },
    {
     "name": "stderr",
     "output_type": "stream",
     "text": [
      "\n"
     ]
    }
   ],
   "source": [
    "# importlib.reload('plancks_law')\n",
    "\n",
    "# Create instances of the classes\n",
    "data_reader = oodr.OceanOpticsDataReader()\n",
    "data_processor = dp.DataProcessing()\n",
    "\n",
    "df_1 = pd.DataFrame(columns=['file_name', 'Temperature(K)'])\n",
    "counter = 0\n",
    "\n",
    "files = selectFiles.files\n",
    "flamp = selectHalLamp.files\n",
    "# files = glob.glob(r\"H:\\My Data\\LH_data\\05102023\\G4_CA-Exp_16-LH_R3-loc_1_Subt16__28**__39494.txt\")\n",
    "# flamp = glob.glob(r\"H:\\My Data\\LH_data\\Intensity Correction\\Intensity_correction-300ms_Subt12__20__021_cleaned.txt\")\n",
    "\n",
    "for file in tqdm(files):\n",
    "    with open(file, 'r') as f:\n",
    "        for line in f:\n",
    "            if line.startswith('Integration Time (sec):'):\n",
    "                integration_time = line.split(':')[1].strip()\n",
    "                acquisitionTime = float(integration_time)\n",
    "                # print(f'Integration time: {acquisitionTime} s')\n",
    "\n",
    "    head, tail = os.path.split(file)\n",
    "\n",
    "    # print(head)\n",
    "    # print(tail)\n",
    "    # print(file)\n",
    "\n",
    "    counter = counter + 1\n",
    "\n",
    "    x_data, y_data = data_reader.get_ocean_optics_data(file)\n",
    "    # print(x_data,y_data)\n",
    "    \n",
    "    if do_system_correction == 'y':\n",
    "        sr = SystemResponse(flamp)\n",
    "        x_data, y_data, intens_data = sr.correct_system_response(file, save_correction=False)\n",
    "\n",
    "    if do_intensity_correction == 'y':\n",
    "        x_data, y_data, intens_data = data_processor.i_corr(file, flamp)\n",
    "    else:\n",
    "        intens_data = y_data\n",
    "\n",
    "    # norm_intens_data = intens_data/np.max(intens_data)\n",
    "    norm_intens_data = intens_data\n",
    "\n",
    "    if do_median_filtering == 'y':\n",
    "        filt_data = data_processor.filter_median(norm_intens_data, k_size)\n",
    "    else:\n",
    "        filt_data = norm_intens_data\n",
    "\n",
    "    if do_baseline_subtraction == 'y':\n",
    "        base = data_processor.subtract_bsl(filt_data, p_order)\n",
    "    else:\n",
    "        base = 0\n",
    "\n",
    "    bsl_subt_data = filt_data - base\n",
    "\n",
    "    if do_data_cleaning == 'y':\n",
    "        cleaned_data = data_processor.data_cleaning(bsl_subt_data, erp)\n",
    "    else:\n",
    "        cleaned_data = bsl_subt_data\n",
    "\n",
    "    # Plancks fitting process\n",
    "    \n",
    "    if do_planck_fit == 'y':\n",
    "\n",
    "        pixelResolution = (x_data[-1] - x_data[-2])  # delta wavelength nm\n",
    "        # print('Pixel Resolution = ' + str(pixelResolution))\n",
    "\n",
    "        y_spec_irr = np.zeros(shape=len(x_data))\n",
    "        photonFlux = np.zeros(shape=len(cleaned_data))\n",
    "        for j in range(len(x_data)):\n",
    "            photonFlux[j] = cleaned_data[j] / (pixelArea * acquisitionTime)\n",
    "            y_spec_irr[j] = photonFlux[j] * (h * c / (x_data[j] * 10 ** -9)) / (pixelResolution)  # spectral irradiance in W/m^2-nm\n",
    "\n",
    "        # y_spec_irr_norm = y_spec_irr/np.max(y_spec_irr)\n",
    "        # y_spec_irr_norm = (y_spec_irr - np.min(y_spec_irr))/(np.max(y_spec_irr)-np.min(y_spec_irr))\n",
    "        y_spec_irr_norm = y_spec_irr\n",
    "\n",
    "        # print(x)\n",
    "        start = np.argmin(abs(x_data[1:] - wvl_start))\n",
    "        end = np.argmin(abs(x_data[1:] - wvl_end))\n",
    "        # print(start, end)\n",
    "        wa = x_data[start:end]\n",
    "        ydata_1 = y_spec_irr_norm[start:end]\n",
    "        cleaned_data_crop = cleaned_data[start:end]\n",
    "        \n",
    "        from plancks_law import PlancksLaw\n",
    "\n",
    "        # Create an instance of the PlancksLaw class\n",
    "        plancks_law = PlancksLaw()\n",
    "        T0 = 3000 # Initial temperature guess in degrees K\n",
    "        scale_factor = 1e-13 # Scale factor for fitting\n",
    "        # Fit the data to the blackbody radiation function\n",
    "        fit_params, _ = curve_fit(plancks_law.calculate_spectral_irradiance, wa, cleaned_data_crop, p0=[scale_factor, T0])\n",
    "\n",
    "        # Extract the fitted parameters\n",
    "        fitted_scale_factor, fitted_temperature = fit_params\n",
    "\n",
    "        # get the best fitting parameter values and their 1 sigma errors\n",
    "        # (assuming the parameters aren't strongly correlated).\n",
    "\n",
    "        ybest = plancks_law.calculate_spectral_irradiance(wa, fitted_scale_factor ,fitted_temperature)\n",
    "        yblack = plancks_law.calculate_spectral_irradiance(wa, fitted_scale_factor ,T0)\n",
    "        \n",
    "        # Calculate system response by dividing the data by the blackbody radiation function at T = 2413.13 K\n",
    "        system_response = cleaned_data_crop/plancks_law.calculate_spectral_irradiance(wa, fitted_scale_factor ,2413.13)\n",
    "\n",
    "        # plot the solution\n",
    "        # plt.plot(wa,cleaned_data_crop,label='Lamp Data')\n",
    "        # plt.plot(wa,yblack,label=f'Input Temperature {T0} K')\n",
    "        # plt.plot(wa, ybest, ls= '--',label=f'Best fitting model {fitted_temperature:.2f} K')\n",
    "        plt.plot(wa,system_response,label='System Response')\n",
    "        # plt.ylim(0,1)\n",
    "        plt.legend()\n",
    "        plt.xlabel(\"Wavelength (nm)\")\n",
    "        plt.show()\n",
    "        \n",
    "    else:\n",
    "        y_spec_irr_norm = cleaned_data\n",
    "        plt.plot(x_data, y_spec_irr_norm, label='Intensity corrected data')\n",
    "        plt.plot(x_data, y_data, label='Raw data')\n",
    "        plt.ylabel(\"Intensity (a.u.)\")\n",
    "\n",
    "    # plt.title(tail) # File name as the plot title\n",
    "    # plt.xlabel(\"Wavelength (nm)\")\n",
    "    # plt.legend(frameon=True)\n",
    "    #plt.savefig('')\n",
    "    plt.show()\n",
    "print(df_1)\n",
    "# df_1.to_csv(r'temp_val_2.csv',index=False,header=True)"
   ]
  },
  {
   "cell_type": "code",
   "execution_count": 27,
   "metadata": {},
   "outputs": [
    {
     "ename": "NameError",
     "evalue": "name 'files' is not defined",
     "output_type": "error",
     "traceback": [
      "\u001b[1;31m---------------------------------------------------------------------------\u001b[0m",
      "\u001b[1;31mNameError\u001b[0m                                 Traceback (most recent call last)",
      "Input \u001b[1;32mIn [27]\u001b[0m, in \u001b[0;36m<cell line: 1>\u001b[1;34m()\u001b[0m\n\u001b[1;32m----> 1\u001b[0m \u001b[38;5;28mlen\u001b[39m(\u001b[43mfiles\u001b[49m)\n",
      "\u001b[1;31mNameError\u001b[0m: name 'files' is not defined"
     ]
    }
   ],
   "source": [
    "len(files)"
   ]
  },
  {
   "cell_type": "code",
   "execution_count": 28,
   "metadata": {},
   "outputs": [
    {
     "ename": "NameError",
     "evalue": "name 'df_1' is not defined",
     "output_type": "error",
     "traceback": [
      "\u001b[1;31m---------------------------------------------------------------------------\u001b[0m",
      "\u001b[1;31mNameError\u001b[0m                                 Traceback (most recent call last)",
      "Input \u001b[1;32mIn [28]\u001b[0m, in \u001b[0;36m<cell line: 3>\u001b[1;34m()\u001b[0m\n\u001b[0;32m      1\u001b[0m \u001b[38;5;66;03m# df_1 = pd.read_csv('temp_val_2.csv')\u001b[39;00m\n\u001b[1;32m----> 3\u001b[0m x \u001b[38;5;241m=\u001b[39m \u001b[43mdf_1\u001b[49m[\u001b[38;5;124m'\u001b[39m\u001b[38;5;124mfile_name\u001b[39m\u001b[38;5;124m'\u001b[39m]\u001b[38;5;241m.\u001b[39mto_numpy()\n\u001b[0;32m      4\u001b[0m y \u001b[38;5;241m=\u001b[39m df_1[\u001b[38;5;124m'\u001b[39m\u001b[38;5;124mTemperature(K)\u001b[39m\u001b[38;5;124m'\u001b[39m]\u001b[38;5;241m.\u001b[39mto_numpy()\n\u001b[0;32m      6\u001b[0m \u001b[38;5;66;03m#fig1 = plt.figure()\u001b[39;00m\n\u001b[0;32m      7\u001b[0m \u001b[38;5;66;03m#plt.axis([0, 10, 0, 1])\u001b[39;00m\n\u001b[0;32m      8\u001b[0m \n\u001b[0;32m      9\u001b[0m \u001b[38;5;66;03m#for i in range(316):\u001b[39;00m\n\u001b[0;32m     10\u001b[0m     \u001b[38;5;66;03m#y = np.random.random()\u001b[39;00m\n",
      "\u001b[1;31mNameError\u001b[0m: name 'df_1' is not defined"
     ]
    }
   ],
   "source": [
    "# df_1 = pd.read_csv('temp_val_2.csv')\n",
    "\n",
    "x = df_1['file_name'].to_numpy()\n",
    "y = df_1['Temperature(K)'].to_numpy()\n",
    "\n",
    "#fig1 = plt.figure()\n",
    "#plt.axis([0, 10, 0, 1])\n",
    "\n",
    "#for i in range(316):\n",
    "    #y = np.random.random()\n",
    "for idx, yi in enumerate(y):\n",
    "#     if yi>1200:\n",
    "    plt.scatter(idx,yi)\n",
    "plt.xlabel('time (a.u.)')\n",
    "plt.ylabel('Temperature (K)')\n",
    "plt.title('Best Fit Temperature for one spot - Planck emission')\n",
    "    #plt.pause(0.05)\n",
    "\n",
    "plt.show()"
   ]
  },
  {
   "cell_type": "code",
   "execution_count": 29,
   "metadata": {},
   "outputs": [
    {
     "ename": "NameError",
     "evalue": "name 'DataProcessing' is not defined",
     "output_type": "error",
     "traceback": [
      "\u001b[1;31m---------------------------------------------------------------------------\u001b[0m",
      "\u001b[1;31mNameError\u001b[0m                                 Traceback (most recent call last)",
      "Input \u001b[1;32mIn [29]\u001b[0m, in \u001b[0;36m<cell line: 36>\u001b[1;34m()\u001b[0m\n\u001b[0;32m     37\u001b[0m temperatures \u001b[38;5;241m=\u001b[39m [\u001b[38;5;241m1200\u001b[39m, \u001b[38;5;241m1000\u001b[39m, \u001b[38;5;241m800\u001b[39m, \u001b[38;5;241m600\u001b[39m, \u001b[38;5;241m400\u001b[39m, \u001b[38;5;241m200\u001b[39m]\n\u001b[0;32m     38\u001b[0m \u001b[38;5;28;01mfor\u001b[39;00m temp \u001b[38;5;129;01min\u001b[39;00m temperatures:\n\u001b[1;32m---> 39\u001b[0m     \u001b[43mplot_plancks_function\u001b[49m\u001b[43m(\u001b[49m\u001b[43mtemp\u001b[49m\u001b[43m,\u001b[49m\u001b[43m \u001b[49m\u001b[43mwavelength_range\u001b[49m\u001b[38;5;241;43m=\u001b[39;49m\u001b[43m(\u001b[49m\u001b[38;5;241;43m300\u001b[39;49m\u001b[43m,\u001b[49m\u001b[43m \u001b[49m\u001b[38;5;241;43m1050\u001b[39;49m\u001b[43m)\u001b[49m\u001b[43m)\u001b[49m\n\u001b[0;32m     40\u001b[0m \u001b[38;5;66;03m# plot_multiple_temperatures(temperatures)\u001b[39;00m\n\u001b[0;32m     41\u001b[0m plt\u001b[38;5;241m.\u001b[39mshow()\n",
      "Input \u001b[1;32mIn [29]\u001b[0m, in \u001b[0;36mplot_plancks_function\u001b[1;34m(temperature, wavelength_range)\u001b[0m\n\u001b[0;32m      2\u001b[0m \u001b[38;5;250m\u001b[39m\u001b[38;5;124;03m\"\"\"\u001b[39;00m\n\u001b[0;32m      3\u001b[0m \u001b[38;5;124;03mPlot Planck's function for a given temperature.\u001b[39;00m\n\u001b[0;32m      4\u001b[0m \n\u001b[1;32m   (...)\u001b[0m\n\u001b[0;32m      7\u001b[0m \u001b[38;5;124;03m- wavelength_range: Tuple specifying the wavelength range (in nm) to plot (default: 100 to 1000 nm)\u001b[39;00m\n\u001b[0;32m      8\u001b[0m \u001b[38;5;124;03m\"\"\"\u001b[39;00m\n\u001b[0;32m      9\u001b[0m wavelength \u001b[38;5;241m=\u001b[39m np\u001b[38;5;241m.\u001b[39mlinspace(wavelength_range[\u001b[38;5;241m0\u001b[39m], wavelength_range[\u001b[38;5;241m1\u001b[39m], \u001b[38;5;241m500\u001b[39m)\n\u001b[1;32m---> 10\u001b[0m data_processor \u001b[38;5;241m=\u001b[39m \u001b[43mDataProcessing\u001b[49m()\n\u001b[0;32m     11\u001b[0m spectral_radiance \u001b[38;5;241m=\u001b[39m data_processor\u001b[38;5;241m.\u001b[39mblackbody_lam(wavelength, temperature)\n\u001b[0;32m     13\u001b[0m \u001b[38;5;66;03m# plt.figure()\u001b[39;00m\n",
      "\u001b[1;31mNameError\u001b[0m: name 'DataProcessing' is not defined"
     ]
    }
   ],
   "source": [
    "def plot_plancks_function(temperature, wavelength_range=(100, 1000)):\n",
    "    \"\"\"\n",
    "    Plot Planck's function for a given temperature.\n",
    "\n",
    "    Parameters:\n",
    "    - temperature: Blackbody temperature (in Kelvin)\n",
    "    - wavelength_range: Tuple specifying the wavelength range (in nm) to plot (default: 100 to 1000 nm)\n",
    "    \"\"\"\n",
    "    wavelength = np.linspace(wavelength_range[0], wavelength_range[1], 500)\n",
    "    data_processor = DataProcessing()\n",
    "    spectral_radiance = data_processor.blackbody_lam(wavelength, temperature)\n",
    "\n",
    "    # plt.figure()\n",
    "    plt.plot(wavelength, spectral_radiance, label=f'Temperature {temperature} K')\n",
    "    plt.xlim(400,wavelength_range[1])\n",
    "    plt.ylim(0,0.0001)\n",
    "    plt.xlabel(\"Wavelength (nm)\")\n",
    "    plt.ylabel(\"Spectral Radiance (W/(sr-m^2-nm))\")\n",
    "    plt.legend()\n",
    "    plt.title(f'Planck\\'s Function at {temperature} K')\n",
    "\n",
    "def plot_multiple_temperatures(temperatures, wavelength_range=(100, 1000)):\n",
    "    \"\"\"\n",
    "    Plot Planck's functions for multiple temperatures.\n",
    "\n",
    "    Parameters:\n",
    "    - temperatures: List of blackbody temperatures (in Kelvin)\n",
    "    - wavelength_range: Tuple specifying the wavelength range (in nm) to plot (default: 100 to 1000 nm)\n",
    "    \"\"\"\n",
    "    for temp in temperatures:\n",
    "        plot_plancks_function(temp, wavelength_range)\n",
    "\n",
    "    plt.show()\n",
    "\n",
    "# Usage example\n",
    "if __name__ == \"__main__\":\n",
    "    temperatures = [1200, 1000, 800, 600, 400, 200]\n",
    "    for temp in temperatures:\n",
    "        plot_plancks_function(temp, wavelength_range=(300, 1050))\n",
    "    # plot_multiple_temperatures(temperatures)\n",
    "    plt.show()\n"
   ]
  },
  {
   "cell_type": "code",
   "execution_count": 30,
   "metadata": {},
   "outputs": [
    {
     "data": {
      "image/png": "[encoded data removed]",
      "text/plain": [
       "<Figure size 432x288 with 1 Axes>"
      ]
     },
     "metadata": {
      "needs_background": "light"
     },
     "output_type": "display_data"
    }
   ],
   "source": [
    "import numpy as np\n",
    "from plancks_law import PlancksLaw\n",
    "from oceanopticsdatareader import OceanOpticsDataReader\n",
    "import matplotlib.pyplot as plt\n",
    "# Create an instance of the OceanOpticsDataReader class\n",
    "data_reader = OceanOpticsDataReader()\n",
    "from scipy.interpolate import CubicSpline\n",
    "from scipy.optimize import curve_fit\n",
    "\n",
    "# Lamp data\n",
    "# lamp_wavelength, lamp_intensity = data_reader.get_ocean_optics_data(flamp)  # Replace with your lamp data retrieval code\n",
    "## Important note to change the location of this .txt file below to where it is in your computer.\n",
    "calibstd = np.loadtxt(r\"G:\\Shared drives\\Pauzauskie Team Drive\\Users\\CG\\Scripts\\030410638_HL-2000-CAL_2014-01-15-14-09_VISEXT1EXT2_FIB.txt\")\n",
    "lamp_wavelength = calibstd[:,0]\n",
    "lamp_intensity = calibstd[:,1]\n",
    "x = np.linspace(300, 1000, 3000)\n",
    "HglampFunc = CubicSpline(lamp_wavelength, lamp_intensity)\n",
    "hglampI = HglampFunc(x) # Create interpolation of true lamp spectrum\n",
    "lamp_wavelength = x\n",
    "lamp_intensity = hglampI\n",
    "\n",
    "\n",
    "# Set a range of wavelengths to fit over\n",
    "start_wavelength = 400\n",
    "end_wavelength = 600\n",
    "wavelength_range = (start_wavelength, end_wavelength)\n",
    "\n",
    "# Crop the lamp data to the specified wavelength range\n",
    "start_index = np.argmin(abs(lamp_wavelength - start_wavelength))\n",
    "end_index = np.argmin(abs(lamp_wavelength - end_wavelength))\n",
    "lamp_wavelength = lamp_wavelength[start_index:end_index]\n",
    "lamp_intensity = lamp_intensity[start_index:end_index]\n",
    "\n",
    "# Create an instance of the PlancksLaw class\n",
    "plancks_law = PlancksLaw()\n",
    "T0 = 2400 # Initial temperature guess in degrees K\n",
    "scale_factor = 1e-13 # Scale factor for fitting\n",
    "# Fit the data to the blackbody radiation function\n",
    "fit_params, _ = curve_fit(plancks_law.calculate_spectral_irradiance, lamp_wavelength, lamp_intensity, p0=[scale_factor, T0])\n",
    "\n",
    "# Extract the fitted parameters\n",
    "fitted_scale_factor, fitted_temperature = fit_params\n",
    "\n",
    "# get the best fitting parameter values and their 1 sigma errors\n",
    "# (assuming the parameters aren't strongly correlated).\n",
    "\n",
    "ybest = plancks_law.calculate_spectral_irradiance(lamp_wavelength, fitted_scale_factor ,fitted_temperature)\n",
    "yblack = plancks_law.calculate_spectral_irradiance(lamp_wavelength, fitted_scale_factor ,T0)\n",
    "\n",
    "# plot the solution\n",
    "plt.plot(lamp_wavelength,lamp_intensity,label='Lamp Data')\n",
    "plt.plot(lamp_wavelength,yblack,label=f'Input Temperature {T0} K')\n",
    "plt.plot(lamp_wavelength, ybest, ls= '--',label=f'Best fitting model {fitted_temperature:.2f} K')\n",
    "# plt.ylim(0,1)\n",
    "plt.legend()\n",
    "plt.xlabel(\"Wavelength (nm)\")\n",
    "plt.show()\n",
    "# plt.ylabel(\"Spectral Irradiance (W/m$^2$-nm)\")\n"
   ]
  },
  {
   "cell_type": "code",
   "execution_count": 15,
   "metadata": {},
   "outputs": [
    {
     "name": "stdout",
     "output_type": "stream",
     "text": [
      "The fitted temperature is 2413.41 K\n",
      "The fitted scale factor is 8.28e-12\n"
     ]
    }
   ],
   "source": [
    "print(f'The fitted temperature is {fitted_temperature:.2f} K')\n",
    "print(f'The fitted scale factor is {fitted_scale_factor:.2e}')"
   ]
  },
  {
   "cell_type": "code",
   "execution_count": 6,
   "metadata": {},
   "outputs": [
    {
     "ename": "NameError",
     "evalue": "name 'plancks_law' is not defined",
     "output_type": "error",
     "traceback": [
      "\u001b[1;31m---------------------------------------------------------------------------\u001b[0m",
      "\u001b[1;31mNameError\u001b[0m                                 Traceback (most recent call last)",
      "Input \u001b[1;32mIn [6]\u001b[0m, in \u001b[0;36m<cell line: 3>\u001b[1;34m()\u001b[0m\n\u001b[0;32m      1\u001b[0m \u001b[38;5;66;03m# Plot the balckbody radiation function for initial guess\u001b[39;00m\n\u001b[1;32m----> 3\u001b[0m plt\u001b[38;5;241m.\u001b[39mplot(lamp_wavelength, \u001b[43mplancks_law\u001b[49m\u001b[38;5;241m.\u001b[39mcalculate_spectral_irradiance(lamp_wavelength, scale_factor, T0), label\u001b[38;5;241m=\u001b[39m\u001b[38;5;124mf\u001b[39m\u001b[38;5;124m'\u001b[39m\u001b[38;5;124mInitial guess \u001b[39m\u001b[38;5;132;01m{\u001b[39;00mT0\u001b[38;5;132;01m}\u001b[39;00m\u001b[38;5;124m K\u001b[39m\u001b[38;5;124m'\u001b[39m)\n\u001b[0;32m      4\u001b[0m plt\u001b[38;5;241m.\u001b[39mshow()\n",
      "\u001b[1;31mNameError\u001b[0m: name 'plancks_law' is not defined"
     ]
    }
   ],
   "source": [
    "# Plot the balckbody radiation function for initial guess\n",
    "\n",
    "plt.plot(lamp_wavelength, plancks_law.calculate_spectral_irradiance(lamp_wavelength, scale_factor, T0), label=f'Initial guess {T0} K')\n",
    "plt.show()\n"
   ]
  },
  {
   "cell_type": "code",
   "execution_count": null,
   "metadata": {},
   "outputs": [],
   "source": []
  }
 ],
 "metadata": {
  "kernelspec": {
   "display_name": "Python 3",
   "language": "python",
   "name": "python3"
  },
  "language_info": {
   "codemirror_mode": {
    "name": "ipython",
    "version": 3
   },
   "file_extension": ".py",
   "mimetype": "text/x-python",
   "name": "python",
   "nbconvert_exporter": "python",
   "pygments_lexer": "ipython3",
   "version": "3.10.4"
  }
 },
 "nbformat": 4,
 "nbformat_minor": 2
}
